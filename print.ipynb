{
 "cells": [
  {
   "cell_type": "code",
   "execution_count": 5,
   "id": "3514fb0a",
   "metadata": {},
   "outputs": [
    {
     "name": "stdout",
     "output_type": "stream",
     "text": [
      "Hello World\n"
     ]
    }
   ],
   "source": [
    "print(\"Hello World\")"
   ]
  },
  {
   "cell_type": "markdown",
   "id": "848c06de",
   "metadata": {},
   "source": [
    "### This Header Note"
   ]
  },
  {
   "cell_type": "code",
   "execution_count": 6,
   "id": "5dc7b6db",
   "metadata": {},
   "outputs": [],
   "source": [
    "intVar=10\n",
    "floatVar=10.5\n",
    "stringVar=\"Birhane\""
   ]
  },
  {
   "cell_type": "code",
   "execution_count": 11,
   "id": "d750edd4",
   "metadata": {},
   "outputs": [
    {
     "name": "stdout",
     "output_type": "stream",
     "text": [
      "10\n"
     ]
    }
   ],
   "source": [
    "print(intVar)"
   ]
  },
  {
   "cell_type": "code",
   "execution_count": 12,
   "id": "39cf64c5",
   "metadata": {},
   "outputs": [
    {
     "name": "stdout",
     "output_type": "stream",
     "text": [
      "10.5\n"
     ]
    }
   ],
   "source": [
    "print(floatVar)"
   ]
  },
  {
   "cell_type": "code",
   "execution_count": 13,
   "id": "aaac2033",
   "metadata": {},
   "outputs": [
    {
     "name": "stdout",
     "output_type": "stream",
     "text": [
      "Birhane\n"
     ]
    }
   ],
   "source": [
    "print(stringVar)"
   ]
  },
  {
   "cell_type": "code",
   "execution_count": 14,
   "id": "f2ad29aa",
   "metadata": {},
   "outputs": [
    {
     "name": "stdout",
     "output_type": "stream",
     "text": [
      "<class 'int'>\n"
     ]
    }
   ],
   "source": [
    "print(type(intVar))"
   ]
  },
  {
   "cell_type": "code",
   "execution_count": 15,
   "id": "ebdcaf75",
   "metadata": {},
   "outputs": [
    {
     "name": "stdout",
     "output_type": "stream",
     "text": [
      "<class 'float'>\n"
     ]
    }
   ],
   "source": [
    "print(type(floatVar))"
   ]
  },
  {
   "cell_type": "code",
   "execution_count": 16,
   "id": "958b123c",
   "metadata": {},
   "outputs": [
    {
     "name": "stdout",
     "output_type": "stream",
     "text": [
      "<class 'str'>\n"
     ]
    }
   ],
   "source": [
    "print(type(stringVar))"
   ]
  },
  {
   "cell_type": "code",
   "execution_count": 19,
   "id": "5bfc4d13",
   "metadata": {},
   "outputs": [],
   "source": [
    "share_of_rent=285/2.0"
   ]
  },
  {
   "cell_type": "code",
   "execution_count": 20,
   "id": "74d44d3e",
   "metadata": {},
   "outputs": [
    {
     "name": "stdout",
     "output_type": "stream",
     "text": [
      "1: 142.5\n"
     ]
    }
   ],
   "source": [
    "print(\"1:\",share_of_rent)"
   ]
  },
  {
   "cell_type": "code",
   "execution_count": 21,
   "id": "8787ecd8",
   "metadata": {},
   "outputs": [
    {
     "name": "stdout",
     "output_type": "stream",
     "text": [
      "<class 'float'>\n"
     ]
    }
   ],
   "source": [
    "print(type(share_of_rent))"
   ]
  },
  {
   "cell_type": "code",
   "execution_count": 22,
   "id": "18fa2de3",
   "metadata": {},
   "outputs": [],
   "source": [
    "round_share=int(share_of_rent)"
   ]
  },
  {
   "cell_type": "code",
   "execution_count": 23,
   "id": "1b5b35fb",
   "metadata": {},
   "outputs": [
    {
     "name": "stdout",
     "output_type": "stream",
     "text": [
      "2: 142\n"
     ]
    }
   ],
   "source": [
    "print(\"2:\",round_share)"
   ]
  },
  {
   "cell_type": "code",
   "execution_count": 24,
   "id": "d945fbba",
   "metadata": {},
   "outputs": [
    {
     "name": "stdout",
     "output_type": "stream",
     "text": [
      "<class 'int'>\n"
     ]
    }
   ],
   "source": [
    "print(type(round_share))"
   ]
  },
  {
   "cell_type": "code",
   "execution_count": 25,
   "id": "6b2ccfe4",
   "metadata": {},
   "outputs": [],
   "source": [
    "prices={\"Egg\":2.5,\"Steak\":75,\"Bacon\":3.6,\"Beer\":36,\"Market Place\":\"Sholla Gebeya\"}"
   ]
  },
  {
   "cell_type": "code",
   "execution_count": 26,
   "id": "c344918f",
   "metadata": {},
   "outputs": [
    {
     "name": "stdout",
     "output_type": "stream",
     "text": [
      "{'Egg': 2.5, 'Steak': 75, 'Bacon': 3.6, 'Beer': 36, 'Market Place': 'Sholla Gebeya'}\n"
     ]
    }
   ],
   "source": [
    "print(prices)"
   ]
  },
  {
   "cell_type": "code",
   "execution_count": 27,
   "id": "ea8a5b58",
   "metadata": {},
   "outputs": [
    {
     "name": "stdout",
     "output_type": "stream",
     "text": [
      "<class 'dict'>\n"
     ]
    }
   ],
   "source": [
    "print(type(prices))"
   ]
  },
  {
   "cell_type": "code",
   "execution_count": 28,
   "id": "780047cd",
   "metadata": {},
   "outputs": [],
   "source": [
    "pricesMerkato={\"Egg\":2.6,\"Steak\":6.5,\"Bacon\":15.2,\"Beer\":32,\"Market Place\":\"Merkato Gebeya\"}"
   ]
  },
  {
   "cell_type": "code",
   "execution_count": 30,
   "id": "a046d6a9",
   "metadata": {},
   "outputs": [
    {
     "name": "stdout",
     "output_type": "stream",
     "text": [
      "Egg in shall is cheaper than merkato\n"
     ]
    }
   ],
   "source": [
    "if prices[\"Egg\"]<pricesMerkato[\"Egg\"]:\n",
    "    print(\"Egg in shall is cheaper than merkato\")\n",
    "else:\n",
    "    print(\"Egg in shall is costy than merkato\")\n",
    "    "
   ]
  },
  {
   "cell_type": "code",
   "execution_count": 33,
   "id": "34ec12c9",
   "metadata": {},
   "outputs": [
    {
     "name": "stdout",
     "output_type": "stream",
     "text": [
      "Sholla Egg price 2.5\n",
      "Merkato Egg price 2.6\n"
     ]
    }
   ],
   "source": [
    "print(\"Sholla Egg price\",prices[\"Egg\"])\n",
    "print(\"Merkato Egg price\",pricesMerkato[\"Egg\"])"
   ]
  },
  {
   "cell_type": "code",
   "execution_count": 34,
   "id": "2aa557d6",
   "metadata": {},
   "outputs": [
    {
     "name": "stdout",
     "output_type": "stream",
     "text": [
      "[4, 'm', 5, 7]\n"
     ]
    }
   ],
   "source": [
    "myList=[4,'m',5,7]\n",
    "print(myList)"
   ]
  },
  {
   "cell_type": "code",
   "execution_count": 36,
   "id": "618b3102",
   "metadata": {},
   "outputs": [
    {
     "name": "stdout",
     "output_type": "stream",
     "text": [
      "[4, 2, 5, 7]\n"
     ]
    }
   ],
   "source": [
    "myList[1]=2\n",
    "print(myList)"
   ]
  },
  {
   "cell_type": "code",
   "execution_count": 40,
   "id": "e58f551a",
   "metadata": {},
   "outputs": [],
   "source": [
    "species=[\"Goat\",\"Cat\",\"Tiger\",\"Python\",\"Anaconda\",\"Lion\"]"
   ]
  },
  {
   "cell_type": "code",
   "execution_count": 41,
   "id": "08a23e8a",
   "metadata": {},
   "outputs": [
    {
     "name": "stdout",
     "output_type": "stream",
     "text": [
      "['Goat', 'Cat', 'Tiger', 'Python', 'Anaconda', 'Lion']\n"
     ]
    }
   ],
   "source": [
    "print(species)"
   ]
  },
  {
   "cell_type": "code",
   "execution_count": 42,
   "id": "da41bab1",
   "metadata": {},
   "outputs": [
    {
     "name": "stdout",
     "output_type": "stream",
     "text": [
      "Goat\n",
      "Cat\n",
      "Tiger\n",
      "Python\n",
      "Anaconda\n",
      "Lion\n"
     ]
    }
   ],
   "source": [
    "for animal in species:\n",
    "    print(animal)"
   ]
  },
  {
   "cell_type": "code",
   "execution_count": 43,
   "id": "ddf48762",
   "metadata": {},
   "outputs": [],
   "source": [
    "numbers=[1,10,20,80,8]"
   ]
  },
  {
   "cell_type": "code",
   "execution_count": 44,
   "id": "f9c9c660",
   "metadata": {},
   "outputs": [
    {
     "name": "stdout",
     "output_type": "stream",
     "text": [
      "119\n"
     ]
    }
   ],
   "source": [
    "total=0\n",
    "for value in numbers:\n",
    "    total=total+value\n",
    "print(total)"
   ]
  },
  {
   "cell_type": "code",
   "execution_count": 45,
   "id": "5934bae0",
   "metadata": {},
   "outputs": [
    {
     "name": "stdout",
     "output_type": "stream",
     "text": [
      "119\n"
     ]
    }
   ],
   "source": [
    "total=0\n",
    "for value in numbers:\n",
    "    total+=value\n",
    "print(total)"
   ]
  },
  {
   "cell_type": "code",
   "execution_count": 49,
   "id": "681987ba",
   "metadata": {},
   "outputs": [
    {
     "name": "stdout",
     "output_type": "stream",
     "text": [
      "0\n",
      "1\n",
      "2\n",
      "3\n",
      "4\n"
     ]
    }
   ],
   "source": [
    "for i in range(5):\n",
    "    print(i)"
   ]
  },
  {
   "cell_type": "code",
   "execution_count": 50,
   "id": "f1cdb27d",
   "metadata": {},
   "outputs": [
    {
     "name": "stdout",
     "output_type": "stream",
     "text": [
      "5\n",
      "6\n",
      "7\n",
      "8\n"
     ]
    }
   ],
   "source": [
    "for i in range(5,9):\n",
    "    print(i)"
   ]
  },
  {
   "cell_type": "code",
   "execution_count": 51,
   "id": "578f2553",
   "metadata": {},
   "outputs": [
    {
     "name": "stdout",
     "output_type": "stream",
     "text": [
      "5\n",
      "25\n",
      "45\n",
      "65\n",
      "85\n"
     ]
    }
   ],
   "source": [
    "for i in range(5,100,20):\n",
    "    print(i)"
   ]
  },
  {
   "cell_type": "code",
   "execution_count": 52,
   "id": "bead7c3d",
   "metadata": {},
   "outputs": [
    {
     "name": "stdout",
     "output_type": "stream",
     "text": [
      "1 * 1= 1\n",
      "1 * 2= 2\n",
      "1 * 3= 3\n",
      "1 * 4= 4\n",
      "1 * 5= 5\n",
      "1 * 6= 6\n",
      "1 * 7= 7\n",
      "1 * 8= 8\n",
      "1 * 9= 9\n",
      "1 * 10= 10\n",
      "2 * 1= 2\n",
      "2 * 2= 4\n",
      "2 * 3= 6\n",
      "2 * 4= 8\n",
      "2 * 5= 10\n",
      "2 * 6= 12\n",
      "2 * 7= 14\n",
      "2 * 8= 16\n",
      "2 * 9= 18\n",
      "2 * 10= 20\n",
      "3 * 1= 3\n",
      "3 * 2= 6\n",
      "3 * 3= 9\n",
      "3 * 4= 12\n",
      "3 * 5= 15\n",
      "3 * 6= 18\n",
      "3 * 7= 21\n",
      "3 * 8= 24\n",
      "3 * 9= 27\n",
      "3 * 10= 30\n",
      "4 * 1= 4\n",
      "4 * 2= 8\n",
      "4 * 3= 12\n",
      "4 * 4= 16\n",
      "4 * 5= 20\n",
      "4 * 6= 24\n",
      "4 * 7= 28\n",
      "4 * 8= 32\n",
      "4 * 9= 36\n",
      "4 * 10= 40\n",
      "5 * 1= 5\n",
      "5 * 2= 10\n",
      "5 * 3= 15\n",
      "5 * 4= 20\n",
      "5 * 5= 25\n",
      "5 * 6= 30\n",
      "5 * 7= 35\n",
      "5 * 8= 40\n",
      "5 * 9= 45\n",
      "5 * 10= 50\n",
      "6 * 1= 6\n",
      "6 * 2= 12\n",
      "6 * 3= 18\n",
      "6 * 4= 24\n",
      "6 * 5= 30\n",
      "6 * 6= 36\n",
      "6 * 7= 42\n",
      "6 * 8= 48\n",
      "6 * 9= 54\n",
      "6 * 10= 60\n",
      "7 * 1= 7\n",
      "7 * 2= 14\n",
      "7 * 3= 21\n",
      "7 * 4= 28\n",
      "7 * 5= 35\n",
      "7 * 6= 42\n",
      "7 * 7= 49\n",
      "7 * 8= 56\n",
      "7 * 9= 63\n",
      "7 * 10= 70\n",
      "8 * 1= 8\n",
      "8 * 2= 16\n",
      "8 * 3= 24\n",
      "8 * 4= 32\n",
      "8 * 5= 40\n",
      "8 * 6= 48\n",
      "8 * 7= 56\n",
      "8 * 8= 64\n",
      "8 * 9= 72\n",
      "8 * 10= 80\n",
      "9 * 1= 9\n",
      "9 * 2= 18\n",
      "9 * 3= 27\n",
      "9 * 4= 36\n",
      "9 * 5= 45\n",
      "9 * 6= 54\n",
      "9 * 7= 63\n",
      "9 * 8= 72\n",
      "9 * 9= 81\n",
      "9 * 10= 90\n",
      "10 * 1= 10\n",
      "10 * 2= 20\n",
      "10 * 3= 30\n",
      "10 * 4= 40\n",
      "10 * 5= 50\n",
      "10 * 6= 60\n",
      "10 * 7= 70\n",
      "10 * 8= 80\n",
      "10 * 9= 90\n",
      "10 * 10= 100\n"
     ]
    }
   ],
   "source": [
    "for x in range(1,11):\n",
    "    for y in range(1,11):\n",
    "        print ('%d * %d= %d'%(x,y,x*y))"
   ]
  },
  {
   "cell_type": "code",
   "execution_count": null,
   "id": "93b3dc5a",
   "metadata": {},
   "outputs": [],
   "source": []
  }
 ],
 "metadata": {
  "kernelspec": {
   "display_name": "Python 3 (ipykernel)",
   "language": "python",
   "name": "python3"
  },
  "language_info": {
   "codemirror_mode": {
    "name": "ipython",
    "version": 3
   },
   "file_extension": ".py",
   "mimetype": "text/x-python",
   "name": "python",
   "nbconvert_exporter": "python",
   "pygments_lexer": "ipython3",
   "version": "3.9.12"
  }
 },
 "nbformat": 4,
 "nbformat_minor": 5
}
