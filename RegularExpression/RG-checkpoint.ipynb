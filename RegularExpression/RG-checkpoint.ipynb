{
 "cells": [
  {
   "cell_type": "code",
   "execution_count": 1,
   "id": "938ff828",
   "metadata": {},
   "outputs": [
    {
     "name": "stdout",
     "output_type": "stream",
     "text": [
      "Please Enter A number:;\n",
      "Oops, That was not a valid number. Try again...\n",
      "Please Enter A number:sdfsd\n",
      "Oops, That was not a valid number. Try again...\n",
      "Please Enter A number:5\n",
      "5\n"
     ]
    }
   ],
   "source": [
    "while True:\n",
    "    try:\n",
    "        x=int(input(\"Please Enter A number:\"))\n",
    "        print(x)\n",
    "        break\n",
    "    except ValueError:\n",
    "        print(\"Oops, That was not a valid number. Try again...\")"
   ]
  },
  {
   "cell_type": "code",
   "execution_count": 8,
   "id": "1a4ab281",
   "metadata": {},
   "outputs": [
    {
     "ename": "FileNotFoundError",
     "evalue": "[Errno 2] No such file or directory: 'mbox-short.txt'",
     "output_type": "error",
     "traceback": [
      "\u001b[1;31m---------------------------------------------------------------------------\u001b[0m",
      "\u001b[1;31mFileNotFoundError\u001b[0m                         Traceback (most recent call last)",
      "Input \u001b[1;32mIn [8]\u001b[0m, in \u001b[0;36m<cell line: 3>\u001b[1;34m()\u001b[0m\n\u001b[0;32m      1\u001b[0m \u001b[38;5;28;01mimport\u001b[39;00m \u001b[38;5;21;01mre\u001b[39;00m\n\u001b[0;32m      2\u001b[0m \u001b[38;5;66;03m#try:\u001b[39;00m\n\u001b[1;32m----> 3\u001b[0m f\u001b[38;5;241m=\u001b[39m\u001b[38;5;28;43mopen\u001b[39;49m\u001b[43m(\u001b[49m\u001b[38;5;124;43m'\u001b[39;49m\u001b[38;5;124;43mmbox-short.txt\u001b[39;49m\u001b[38;5;124;43m'\u001b[39;49m\u001b[43m,\u001b[49m\u001b[38;5;124;43m'\u001b[39;49m\u001b[38;5;124;43mr\u001b[39;49m\u001b[38;5;124;43m'\u001b[39;49m\u001b[43m)\u001b[49m\n\u001b[0;32m      4\u001b[0m \u001b[38;5;28;01mfor\u001b[39;00m line \u001b[38;5;129;01min\u001b[39;00m f:\n\u001b[0;32m      5\u001b[0m     line\u001b[38;5;241m=\u001b[39mline\u001b[38;5;241m.\u001b[39mrstrip()\n",
      "\u001b[1;31mFileNotFoundError\u001b[0m: [Errno 2] No such file or directory: 'mbox-short.txt'"
     ]
    }
   ],
   "source": [
    "\n",
    "import re\n",
    "#try:\n",
    "f=open('mbox-short.txt','r')\n",
    "for line in f:\n",
    "    line=line.rstrip()\n",
    "    if re.search('From:', line):\n",
    "        print(line)\n",
    "    #f.close()\n",
    "#except IOError:\n",
    "#    print('Error Reading File')\n",
    "# =============================================================================\n",
    "# try:\n",
    "#     f2=open('mbox-short.txt','r')\n",
    "#     for line in f2:\n",
    "#         line=line.rstrip()\n",
    "#         if line.find('From:')>=0:\n",
    "#             print(line)\n",
    "# except IOError:\n",
    "#     print('Error Reading File')\n",
    "# =============================================================================\n"
   ]
  },
  {
   "cell_type": "code",
   "execution_count": null,
   "id": "d9bdf927",
   "metadata": {},
   "outputs": [],
   "source": []
  }
 ],
 "metadata": {
  "kernelspec": {
   "display_name": "Python 3 (ipykernel)",
   "language": "python",
   "name": "python3"
  },
  "language_info": {
   "codemirror_mode": {
    "name": "ipython",
    "version": 3
   },
   "file_extension": ".py",
   "mimetype": "text/x-python",
   "name": "python",
   "nbconvert_exporter": "python",
   "pygments_lexer": "ipython3",
   "version": "3.9.12"
  }
 },
 "nbformat": 4,
 "nbformat_minor": 5
}
