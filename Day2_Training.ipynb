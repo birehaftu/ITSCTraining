{
 "cells": [
  {
   "cell_type": "code",
   "execution_count": 6,
   "id": "2a107ab1",
   "metadata": {},
   "outputs": [
    {
     "name": "stdout",
     "output_type": "stream",
     "text": [
      "Enter Your age:10\n",
      "Not Eligible for voting\n",
      "Statement after if statement\n"
     ]
    }
   ],
   "source": [
    "def if_else_example():\n",
    "    #age=int(input(\"Enter Your age:\"))\n",
    "    age=input(\"Enter Your age:\")\n",
    "    if int(age)>=18:\n",
    "        print(\"Eligible for voting!\")\n",
    "    else:\n",
    "        print(\"Not Eligible for voting\")\n",
    "    print(\"Statement after if statement\")\n",
    "if_else_example()"
   ]
  },
  {
   "cell_type": "code",
   "execution_count": 11,
   "id": "8335fc4a",
   "metadata": {},
   "outputs": [
    {
     "name": "stdout",
     "output_type": "stream",
     "text": [
      "__________\n",
      "2 * 88 = 176\n",
      "2 * 9 = 18\n",
      "2 * 2 = 4\n",
      "2 * 1 = 2\n",
      "__________\n",
      "5 * 88 = 440\n",
      "5 * 9 = 45\n",
      "5 * 2 = 10\n",
      "5 * 1 = 5\n",
      "__________\n",
      "8 * 88 = 704\n",
      "8 * 9 = 72\n",
      "8 * 2 = 16\n",
      "8 * 1 = 8\n",
      "__________\n",
      "1 * 88 = 88\n",
      "1 * 9 = 9\n",
      "1 * 2 = 2\n",
      "1 * 1 = 1\n"
     ]
    }
   ],
   "source": [
    "def multiply_two(a,b):\n",
    "    return a*b\n",
    "x=[2,5,8,1]\n",
    "y=[88,9,2,1]\n",
    "for i in x:\n",
    "    print('__________')\n",
    "    for j in y:\n",
    "        print('%d * %d = %d'%(i,j,multiply_two(i,j)))"
   ]
  },
  {
   "cell_type": "code",
   "execution_count": 32,
   "id": "4d39fd95",
   "metadata": {},
   "outputs": [
    {
     "name": "stdout",
     "output_type": "stream",
     "text": [
      "['HelloStringListHelloStringList Hello String List']\n"
     ]
    }
   ],
   "source": [
    "lists=['Hello','String','List']\n",
    "newfile=open('newfile.txt','r+')\n",
    "#allList=''\n",
    "#for li in lists:\n",
    "   # allList=allList+' '+li\n",
    "newfile.writelines(lists)\n",
    "print(newfile.readlines())"
   ]
  },
  {
   "cell_type": "code",
   "execution_count": 33,
   "id": "d371868b",
   "metadata": {},
   "outputs": [
    {
     "name": "stdout",
     "output_type": "stream",
     "text": [
      "['HelloStringListHelloStringList Hello String ListHelloStringList']\n"
     ]
    }
   ],
   "source": [
    "lists=['Hello','String','List']\n",
    "newfile=open('newfile.txt','r+')\n",
    "#allList=''\n",
    "#for li in lists:\n",
    "   # allList=allList+' '+li\n",
    "newfile.writelines(lists)\n",
    "print(newfile.readlines())\n",
    "newfile.close()"
   ]
  },
  {
   "cell_type": "code",
   "execution_count": 42,
   "id": "e418fa7e",
   "metadata": {},
   "outputs": [
    {
     "data": {
      "text/plain": [
       "['HelloStringListHelloStringList Hello String ListHelloStringListHelloStringListnew inputnew inputnew inputnew inputnew inputnew input']"
      ]
     },
     "execution_count": 42,
     "metadata": {},
     "output_type": "execute_result"
    }
   ],
   "source": [
    "newfileAppend=open('newfile.txt','a')\n",
    "newfileAppend.write('new input')\n",
    "newfileAppend.close()\n",
    "newfileRead=open('newfile.txt','r')\n",
    "newfileRead.readlines()\n"
   ]
  },
  {
   "cell_type": "code",
   "execution_count": 43,
   "id": "73a6a329",
   "metadata": {},
   "outputs": [],
   "source": [
    "newfileRead.close()"
   ]
  },
  {
   "cell_type": "code",
   "execution_count": 45,
   "id": "6366978e",
   "metadata": {},
   "outputs": [],
   "source": [
    "import os \n",
    "os.rename( \"newfile.txt\", \"newfile2.txt\" )\n"
   ]
  },
  {
   "cell_type": "code",
   "execution_count": 47,
   "id": "6c77f1bb",
   "metadata": {},
   "outputs": [
    {
     "ename": "FileNotFoundError",
     "evalue": "[WinError 2] The system cannot find the file specified: 'newfile2.txt' -> 'newfile.txt'",
     "output_type": "error",
     "traceback": [
      "\u001b[1;31m---------------------------------------------------------------------------\u001b[0m",
      "\u001b[1;31mFileNotFoundError\u001b[0m                         Traceback (most recent call last)",
      "Input \u001b[1;32mIn [47]\u001b[0m, in \u001b[0;36m<cell line: 2>\u001b[1;34m()\u001b[0m\n\u001b[0;32m      1\u001b[0m \u001b[38;5;28;01mimport\u001b[39;00m \u001b[38;5;21;01mos\u001b[39;00m \n\u001b[1;32m----> 2\u001b[0m \u001b[43mos\u001b[49m\u001b[38;5;241;43m.\u001b[39;49m\u001b[43mrename\u001b[49m\u001b[43m(\u001b[49m\u001b[43m \u001b[49m\u001b[38;5;124;43m\"\u001b[39;49m\u001b[38;5;124;43mnewfile2.txt\u001b[39;49m\u001b[38;5;124;43m\"\u001b[39;49m\u001b[43m,\u001b[49m\u001b[43m \u001b[49m\u001b[38;5;124;43m\"\u001b[39;49m\u001b[38;5;124;43mnewfile.txt\u001b[39;49m\u001b[38;5;124;43m\"\u001b[39;49m\u001b[43m \u001b[49m\u001b[43m)\u001b[49m\n",
      "\u001b[1;31mFileNotFoundError\u001b[0m: [WinError 2] The system cannot find the file specified: 'newfile2.txt' -> 'newfile.txt'"
     ]
    }
   ],
   "source": [
    "import os \n",
    "os.rename( \"newfile2.txt\", \"newfile.txt\" )"
   ]
  },
  {
   "cell_type": "code",
   "execution_count": null,
   "id": "582f925e",
   "metadata": {},
   "outputs": [],
   "source": []
  }
 ],
 "metadata": {
  "kernelspec": {
   "display_name": "Python 3 (ipykernel)",
   "language": "python",
   "name": "python3"
  },
  "language_info": {
   "codemirror_mode": {
    "name": "ipython",
    "version": 3
   },
   "file_extension": ".py",
   "mimetype": "text/x-python",
   "name": "python",
   "nbconvert_exporter": "python",
   "pygments_lexer": "ipython3",
   "version": "3.9.12"
  }
 },
 "nbformat": 4,
 "nbformat_minor": 5
}
