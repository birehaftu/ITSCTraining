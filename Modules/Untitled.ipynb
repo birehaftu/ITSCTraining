{
 "cells": [
  {
   "cell_type": "code",
   "execution_count": 1,
   "id": "de7fafba",
   "metadata": {},
   "outputs": [
    {
     "name": "stdout",
     "output_type": "stream",
     "text": [
      "Please Enter A number:;\n",
      "Oops, That was not a valid number. Try again...\n",
      "Please Enter A number:sdfsd\n",
      "Oops, That was not a valid number. Try again...\n",
      "Please Enter A number:5\n",
      "5\n"
     ]
    }
   ],
   "source": [
    "while True:\n",
    "    try:\n",
    "        x=int(input(\"Please Enter A number:\"))\n",
    "        print(x)\n",
    "        break\n",
    "    except ValueError:\n",
    "        print(\"Oops, That was not a valid number. Try again...\")"
   ]
  },
  {
   "cell_type": "code",
   "execution_count": 4,
   "id": "061f9150",
   "metadata": {},
   "outputs": [
    {
     "name": "stdout",
     "output_type": "stream",
     "text": [
      "Error Reading File\n"
     ]
    }
   ],
   "source": [
    "\n",
    "import re\n",
    "try:\n",
    "    f=open('mbox-short.txt','r')\n",
    "    for line in f:\n",
    "        line=line.rstrip()\n",
    "        if re.search('From:', line):\n",
    "            print(line)\n",
    "    #f.close()\n",
    "except IOError:\n",
    "    print('Error Reading File')\n",
    "# =============================================================================\n",
    "# try:\n",
    "#     f2=open('mbox-short.txt','r')\n",
    "#     for line in f2:\n",
    "#         line=line.rstrip()\n",
    "#         if line.find('From:')>=0:\n",
    "#             print(line)\n",
    "# except IOError:\n",
    "#     print('Error Reading File')\n",
    "# =============================================================================\n"
   ]
  },
  {
   "cell_type": "code",
   "execution_count": null,
   "id": "8b05c2d5",
   "metadata": {},
   "outputs": [],
   "source": []
  }
 ],
 "metadata": {
  "kernelspec": {
   "display_name": "Python 3 (ipykernel)",
   "language": "python",
   "name": "python3"
  },
  "language_info": {
   "codemirror_mode": {
    "name": "ipython",
    "version": 3
   },
   "file_extension": ".py",
   "mimetype": "text/x-python",
   "name": "python",
   "nbconvert_exporter": "python",
   "pygments_lexer": "ipython3",
   "version": "3.9.12"
  }
 },
 "nbformat": 4,
 "nbformat_minor": 5
}
