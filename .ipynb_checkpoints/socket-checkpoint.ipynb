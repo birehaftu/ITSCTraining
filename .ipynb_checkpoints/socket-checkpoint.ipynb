{
 "cells": [
  {
   "cell_type": "code",
   "execution_count": null,
   "id": "c5379b64",
   "metadata": {},
   "outputs": [],
   "source": [
    "from socket import socket, AF_INET, SOCK_STREAM\n",
    "(SERVER, PORT) = ('127.0.0.1', 9999)\n",
    "s = socket(AF_INET, SOCK_STREAM)\n",
    "s.connect((SERVER, PORT))\n",
    "s.send(bytes('Hello, world', 'utf-8'))\n",
    "data = s.recv(1024)\n",
    "s.close()\n",
    "print ('Received', data)"
   ]
  },
  {
   "cell_type": "code",
   "execution_count": null,
   "id": "059f6f05",
   "metadata": {},
   "outputs": [],
   "source": []
  }
 ],
 "metadata": {
  "kernelspec": {
   "display_name": "Python 3 (ipykernel)",
   "language": "python",
   "name": "python3"
  },
  "language_info": {
   "codemirror_mode": {
    "name": "ipython",
    "version": 3
   },
   "file_extension": ".py",
   "mimetype": "text/x-python",
   "name": "python",
   "nbconvert_exporter": "python",
   "pygments_lexer": "ipython3",
   "version": "3.9.12"
  }
 },
 "nbformat": 4,
 "nbformat_minor": 5
}
