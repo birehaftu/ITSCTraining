{
 "cells": [
  {
   "cell_type": "code",
   "execution_count": 6,
   "id": "0df0da77",
   "metadata": {},
   "outputs": [
    {
     "name": "stdout",
     "output_type": "stream",
     "text": [
      "Enter Your age:10\n",
      "Not Eligible for voting\n",
      "Statement after if statement\n"
     ]
    }
   ],
   "source": [
    "def if_else_example():\n",
    "    #age=int(input(\"Enter Your age:\"))\n",
    "    age=input(\"Enter Your age:\")\n",
    "    if int(age)>=18:\n",
    "        print(\"Eligible for voting!\")\n",
    "    else:\n",
    "        print(\"Not Eligible for voting\")\n",
    "    print(\"Statement after if statement\")\n",
    "if_else_example()"
   ]
  },
  {
   "cell_type": "code",
   "execution_count": 11,
   "id": "1991e9d6",
   "metadata": {},
   "outputs": [
    {
     "name": "stdout",
     "output_type": "stream",
     "text": [
      "__________\n",
      "2 * 88 = 176\n",
      "2 * 9 = 18\n",
      "2 * 2 = 4\n",
      "2 * 1 = 2\n",
      "__________\n",
      "5 * 88 = 440\n",
      "5 * 9 = 45\n",
      "5 * 2 = 10\n",
      "5 * 1 = 5\n",
      "__________\n",
      "8 * 88 = 704\n",
      "8 * 9 = 72\n",
      "8 * 2 = 16\n",
      "8 * 1 = 8\n",
      "__________\n",
      "1 * 88 = 88\n",
      "1 * 9 = 9\n",
      "1 * 2 = 2\n",
      "1 * 1 = 1\n"
     ]
    }
   ],
   "source": [
    "def multiply_two(a,b):\n",
    "    return a*b\n",
    "x=[2,5,8,1]\n",
    "y=[88,9,2,1]\n",
    "for i in x:\n",
    "    print('__________')\n",
    "    for j in y:\n",
    "        print('%d * %d = %d'%(i,j,multiply_two(i,j)))"
   ]
  },
  {
   "cell_type": "code",
   "execution_count": 32,
   "id": "d2e224b5",
   "metadata": {},
   "outputs": [
    {
     "name": "stdout",
     "output_type": "stream",
     "text": [
      "['HelloStringListHelloStringList Hello String List']\n"
     ]
    }
   ],
   "source": [
    "lists=['Hello','String','List']\n",
    "newfile=open('newfile.txt','r+')\n",
    "#allList=''\n",
    "#for li in lists:\n",
    "   # allList=allList+' '+li\n",
    "newfile.writelines(lists)\n",
    "print(newfile.readlines())"
   ]
  },
  {
   "cell_type": "code",
   "execution_count": 33,
   "id": "56bccb5a",
   "metadata": {},
   "outputs": [
    {
     "name": "stdout",
     "output_type": "stream",
     "text": [
      "['HelloStringListHelloStringList Hello String ListHelloStringList']\n"
     ]
    }
   ],
   "source": [
    "lists=['Hello','String','List']\n",
    "newfile=open('newfile.txt','r+')\n",
    "#allList=''\n",
    "#for li in lists:\n",
    "   # allList=allList+' '+li\n",
    "newfile.writelines(lists)\n",
    "print(newfile.readlines())\n",
    "newfile.close()"
   ]
  },
  {
   "cell_type": "code",
   "execution_count": 39,
   "id": "599eb96d",
   "metadata": {},
   "outputs": [
    {
     "data": {
      "text/plain": [
       "['HelloStringListHelloStringList Hello String ListHelloStringListHelloStringListnew inputnew inputnew inputnew input']"
      ]
     },
     "execution_count": 39,
     "metadata": {},
     "output_type": "execute_result"
    }
   ],
   "source": [
    "newfileAppend=open('newfile.txt','a')\n",
    "newfileAppend.write('new input')\n",
    "newfileAppend.close()\n",
    "newfileRead=open('newfile.txt','r')\n",
    "newfileRead.readlines()\n",
    "newfileRead.close()"
   ]
  },
  {
   "cell_type": "code",
   "execution_count": null,
   "id": "80e9f50e",
   "metadata": {},
   "outputs": [],
   "source": []
  }
 ],
 "metadata": {
  "kernelspec": {
   "display_name": "Python 3 (ipykernel)",
   "language": "python",
   "name": "python3"
  },
  "language_info": {
   "codemirror_mode": {
    "name": "ipython",
    "version": 3
   },
   "file_extension": ".py",
   "mimetype": "text/x-python",
   "name": "python",
   "nbconvert_exporter": "python",
   "pygments_lexer": "ipython3",
   "version": "3.9.12"
  }
 },
 "nbformat": 4,
 "nbformat_minor": 5
}
