{
 "cells": [
  {
   "cell_type": "code",
   "execution_count": 5,
   "id": "2b773b86",
   "metadata": {},
   "outputs": [
    {
     "name": "stdout",
     "output_type": "stream",
     "text": [
      "Hello World\n"
     ]
    }
   ],
   "source": [
    "print(\"Hello World\")"
   ]
  },
  {
   "cell_type": "markdown",
   "id": "5e2f05e0",
   "metadata": {},
   "source": [
    "### This Header Note"
   ]
  },
  {
   "cell_type": "code",
   "execution_count": 6,
   "id": "08bb7d30",
   "metadata": {},
   "outputs": [],
   "source": [
    "intVar=10\n",
    "floatVar=10.5\n",
    "stringVar=\"Birhane\""
   ]
  },
  {
   "cell_type": "code",
   "execution_count": 11,
   "id": "c9f5ff0c",
   "metadata": {},
   "outputs": [
    {
     "name": "stdout",
     "output_type": "stream",
     "text": [
      "10\n"
     ]
    }
   ],
   "source": [
    "print(intVar)"
   ]
  },
  {
   "cell_type": "code",
   "execution_count": 12,
   "id": "30f3f994",
   "metadata": {},
   "outputs": [
    {
     "name": "stdout",
     "output_type": "stream",
     "text": [
      "10.5\n"
     ]
    }
   ],
   "source": [
    "print(floatVar)"
   ]
  },
  {
   "cell_type": "code",
   "execution_count": 13,
   "id": "c64381f0",
   "metadata": {},
   "outputs": [
    {
     "name": "stdout",
     "output_type": "stream",
     "text": [
      "Birhane\n"
     ]
    }
   ],
   "source": [
    "print(stringVar)"
   ]
  },
  {
   "cell_type": "code",
   "execution_count": 14,
   "id": "27a6af7a",
   "metadata": {},
   "outputs": [
    {
     "name": "stdout",
     "output_type": "stream",
     "text": [
      "<class 'int'>\n"
     ]
    }
   ],
   "source": [
    "print(type(intVar))"
   ]
  },
  {
   "cell_type": "code",
   "execution_count": 15,
   "id": "3f5ee457",
   "metadata": {},
   "outputs": [
    {
     "name": "stdout",
     "output_type": "stream",
     "text": [
      "<class 'float'>\n"
     ]
    }
   ],
   "source": [
    "print(type(floatVar))"
   ]
  },
  {
   "cell_type": "code",
   "execution_count": 16,
   "id": "f073970a",
   "metadata": {},
   "outputs": [
    {
     "name": "stdout",
     "output_type": "stream",
     "text": [
      "<class 'str'>\n"
     ]
    }
   ],
   "source": [
    "print(type(stringVar))"
   ]
  },
  {
   "cell_type": "code",
   "execution_count": 19,
   "id": "82c888ec",
   "metadata": {},
   "outputs": [],
   "source": [
    "share_of_rent=285/2.0"
   ]
  },
  {
   "cell_type": "code",
   "execution_count": 20,
   "id": "f5af327f",
   "metadata": {},
   "outputs": [
    {
     "name": "stdout",
     "output_type": "stream",
     "text": [
      "1: 142.5\n"
     ]
    }
   ],
   "source": [
    "print(\"1:\",share_of_rent)"
   ]
  },
  {
   "cell_type": "code",
   "execution_count": 21,
   "id": "f766abf4",
   "metadata": {},
   "outputs": [
    {
     "name": "stdout",
     "output_type": "stream",
     "text": [
      "<class 'float'>\n"
     ]
    }
   ],
   "source": [
    "print(type(share_of_rent))"
   ]
  },
  {
   "cell_type": "code",
   "execution_count": 22,
   "id": "f7f518ff",
   "metadata": {},
   "outputs": [],
   "source": [
    "round_share=int(share_of_rent)"
   ]
  },
  {
   "cell_type": "code",
   "execution_count": 23,
   "id": "f8c54e66",
   "metadata": {},
   "outputs": [
    {
     "name": "stdout",
     "output_type": "stream",
     "text": [
      "2: 142\n"
     ]
    }
   ],
   "source": [
    "print(\"2:\",round_share)"
   ]
  },
  {
   "cell_type": "code",
   "execution_count": 24,
   "id": "d091b9d7",
   "metadata": {},
   "outputs": [
    {
     "name": "stdout",
     "output_type": "stream",
     "text": [
      "<class 'int'>\n"
     ]
    }
   ],
   "source": [
    "print(type(round_share))"
   ]
  },
  {
   "cell_type": "code",
   "execution_count": 25,
   "id": "341992e8",
   "metadata": {},
   "outputs": [],
   "source": [
    "prices={\"Egg\":2.5,\"Steak\":75,\"Bacon\":3.6,\"Beer\":36,\"Market Place\":\"Sholla Gebeya\"}"
   ]
  },
  {
   "cell_type": "code",
   "execution_count": 26,
   "id": "f4a7ba97",
   "metadata": {},
   "outputs": [
    {
     "name": "stdout",
     "output_type": "stream",
     "text": [
      "{'Egg': 2.5, 'Steak': 75, 'Bacon': 3.6, 'Beer': 36, 'Market Place': 'Sholla Gebeya'}\n"
     ]
    }
   ],
   "source": [
    "print(prices)"
   ]
  },
  {
   "cell_type": "code",
   "execution_count": 27,
   "id": "3bca499a",
   "metadata": {},
   "outputs": [
    {
     "name": "stdout",
     "output_type": "stream",
     "text": [
      "<class 'dict'>\n"
     ]
    }
   ],
   "source": [
    "print(type(prices))"
   ]
  },
  {
   "cell_type": "code",
   "execution_count": 28,
   "id": "7fbe354f",
   "metadata": {},
   "outputs": [],
   "source": [
    "pricesMerkato={\"Egg\":2.6,\"Steak\":6.5,\"Bacon\":15.2,\"Beer\":32,\"Market Place\":\"Merkato Gebeya\"}"
   ]
  },
  {
   "cell_type": "code",
   "execution_count": 30,
   "id": "3d6c075f",
   "metadata": {},
   "outputs": [
    {
     "name": "stdout",
     "output_type": "stream",
     "text": [
      "Egg in shall is cheaper than merkato\n"
     ]
    }
   ],
   "source": [
    "if prices[\"Egg\"]<pricesMerkato[\"Egg\"]:\n",
    "    print(\"Egg in shall is cheaper than merkato\")\n",
    "else:\n",
    "    print(\"Egg in shall is costy than merkato\")\n",
    "    "
   ]
  },
  {
   "cell_type": "code",
   "execution_count": null,
   "id": "1d1fb5ce",
   "metadata": {},
   "outputs": [],
   "source": []
  }
 ],
 "metadata": {
  "kernelspec": {
   "display_name": "Python 3 (ipykernel)",
   "language": "python",
   "name": "python3"
  },
  "language_info": {
   "codemirror_mode": {
    "name": "ipython",
    "version": 3
   },
   "file_extension": ".py",
   "mimetype": "text/x-python",
   "name": "python",
   "nbconvert_exporter": "python",
   "pygments_lexer": "ipython3",
   "version": "3.9.12"
  }
 },
 "nbformat": 4,
 "nbformat_minor": 5
}
